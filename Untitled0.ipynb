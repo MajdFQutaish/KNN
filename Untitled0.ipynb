{
  "nbformat": 4,
  "nbformat_minor": 0,
  "metadata": {
    "colab": {
      "provenance": [],
      "authorship_tag": "ABX9TyNKntRHpFM0tJO3TJNBhjPA",
      "include_colab_link": true
    },
    "kernelspec": {
      "name": "python3",
      "display_name": "Python 3"
    },
    "language_info": {
      "name": "python"
    }
  },
  "cells": [
    {
      "cell_type": "markdown",
      "metadata": {
        "id": "view-in-github",
        "colab_type": "text"
      },
      "source": [
        "<a href=\"https://colab.research.google.com/github/MajdFQutaish/KNN/blob/main/Untitled0.ipynb\" target=\"_parent\"><img src=\"https://colab.research.google.com/assets/colab-badge.svg\" alt=\"Open In Colab\"/></a>"
      ]
    },
    {
      "cell_type": "code",
      "execution_count": null,
      "metadata": {
        "id": "Vi5Qsvqqz4qX"
      },
      "outputs": [],
      "source": [
        "# run this cell to install pycaret in Google Colab\n",
        "#!pip install pycaret\n",
        "#!pip install numpy==1.21.4\n",
        "#!pip install pip install numba==0.53.0\n",
        "#!pip install librosa\n",
        "#!sudo apt install librosa\n",
        "\n",
        "# importing libraries  \n",
        "import numpy as nm  \n",
        "import matplotlib.pyplot as mtp  \n",
        "import pandas as pd  \n",
        "\n",
        "#importing datasets  \n",
        "data_set= pd.read_csv('diabetes - diabetes.csv')  \n",
        "\n",
        "#Extracting Independent and dependent Variable  \n",
        "x= data_set.iloc[:, [1,7]].values  \n",
        "y= data_set.iloc[:, 8].values  \n",
        "\n",
        "\n",
        "#init setup\n",
        "from pycaret.datasets import get_data\n",
        "Data_Sets= get_data('diabetes - diabetes')\n",
        "from pycaret.classification import *\n",
        "exp_clf101 = setup(data = Data_Sets, target = 'Outcome', session_id=123) \n",
        "best_model = compare_models()\n",
        "print(best_model)\n",
        "\n",
        "knn = create_model('knn')\n",
        "\n",
        "#lr = create_model('lr')\n",
        "\n",
        "\n",
        "\n"
      ]
    }
  ]
}